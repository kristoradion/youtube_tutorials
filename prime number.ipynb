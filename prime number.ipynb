{
 "cells": [
  {
   "cell_type": "code",
   "execution_count": 20,
   "id": "367ca14f-deee-4023-90dc-bf34028698c2",
   "metadata": {},
   "outputs": [
    {
     "name": "stdout",
     "output_type": "stream",
     "text": [
      "True\n",
      "True\n",
      "True\n",
      "False\n"
     ]
    }
   ],
   "source": [
    "def isPrime(num):\n",
    "    #check if num is prime number\n",
    "    prime = True #initial assumption\n",
    "    for i in range(2,num): #loop from 2 up to but not including num\n",
    "        if num%i==0:\n",
    "            prime = False\n",
    "            break\n",
    "    return prime\n",
    "    \n",
    "print(isPrime(5))\n",
    "print(isPrime(2))\n",
    "print(isPrime(13))\n",
    "print(isPrime(16))"
   ]
  },
  {
   "cell_type": "code",
   "execution_count": 21,
   "id": "e5ec7a9f-fe7d-4b50-964f-88cb1310c325",
   "metadata": {},
   "outputs": [
    {
     "name": "stdout",
     "output_type": "stream",
     "text": [
      "True\n",
      "True\n",
      "False\n"
     ]
    }
   ],
   "source": [
    "def isPrime(num):\n",
    "    #check if num is prime number\n",
    "    prime = True #initial assumption\n",
    "    for i in range(2,int(num/2)+1): #loop from 2 up to but not including num\n",
    "        #print(f\"Checking {num}%{i}\")\n",
    "        if num%i==0:\n",
    "            prime = False\n",
    "            break\n",
    "    return prime\n",
    "    \n",
    "print(isPrime(11))\n",
    "print(isPrime(2))\n",
    "print(isPrime(15))"
   ]
  },
  {
   "cell_type": "code",
   "execution_count": 22,
   "id": "b70021f2-4c02-4897-8b85-231451b74e24",
   "metadata": {},
   "outputs": [
    {
     "name": "stdout",
     "output_type": "stream",
     "text": [
      "True\n",
      "True\n",
      "False\n"
     ]
    }
   ],
   "source": [
    "def isPrime(num):\n",
    "    #check if num is prime number\n",
    "    for i in range(2,int(num/2)+1): #loop from 2 up to but not including num\n",
    "        #print(f\"Checking {num}%{i}\")\n",
    "        if num%i==0:\n",
    "            return False\n",
    "    return True\n",
    "    \n",
    "print(isPrime(11))\n",
    "print(isPrime(2))\n",
    "print(isPrime(15))"
   ]
  },
  {
   "cell_type": "code",
   "execution_count": 23,
   "id": "e84fc622-a8cc-4f44-9724-5652978bff9b",
   "metadata": {},
   "outputs": [
    {
     "data": {
      "text/plain": [
       "[2, 3, 5, 7, 11, 13, 17, 19, 23, 29, 31, 37, 41, 43, 47]"
      ]
     },
     "execution_count": 23,
     "metadata": {},
     "output_type": "execute_result"
    }
   ],
   "source": [
    "#finding all the prime numbers from 2 to 30\n",
    "def findPrime(min,max):\n",
    "    result = []\n",
    "    for i in range(min,max+1):\n",
    "        if isPrime(i):\n",
    "            result.append(i)\n",
    "    return result\n",
    "\n",
    "findPrime(2,50)"
   ]
  },
  {
   "cell_type": "code",
   "execution_count": 24,
   "id": "73dd83fc-037d-4029-b84d-6c2ad3ab3803",
   "metadata": {},
   "outputs": [
    {
     "name": "stdout",
     "output_type": "stream",
     "text": [
      "Checking 999\n",
      "Checking 998\n",
      "Checking 997\n",
      "997\n"
     ]
    }
   ],
   "source": [
    "#get a prime number closest to 1000\n",
    "def findPrimeClosestTo(num):\n",
    "    for i in reversed(range(2,num)):\n",
    "        print(f\"Checking {i}\")\n",
    "        if isPrime(i):\n",
    "            return i\n",
    "    return None\n",
    "print(findPrimeClosestTo(1000))"
   ]
  },
  {
   "cell_type": "code",
   "execution_count": null,
   "id": "df63861f-213c-4dbe-b6f6-32dee9ff9721",
   "metadata": {},
   "outputs": [],
   "source": []
  }
 ],
 "metadata": {
  "kernelspec": {
   "display_name": "Python 3 (ipykernel)",
   "language": "python",
   "name": "python3"
  },
  "language_info": {
   "codemirror_mode": {
    "name": "ipython",
    "version": 3
   },
   "file_extension": ".py",
   "mimetype": "text/x-python",
   "name": "python",
   "nbconvert_exporter": "python",
   "pygments_lexer": "ipython3",
   "version": "3.10.5"
  }
 },
 "nbformat": 4,
 "nbformat_minor": 5
}
